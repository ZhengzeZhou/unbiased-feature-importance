{
 "cells": [
  {
   "cell_type": "code",
   "execution_count": 298,
   "metadata": {},
   "outputs": [],
   "source": [
    "import numpy as np\n",
    "import pandas as pd\n",
    "from sklearn.ensemble import RandomForestRegressor\n",
    "from sklearn.ensemble import RandomForestClassifier\n",
    "\n",
    "import UFI"
   ]
  },
  {
   "cell_type": "code",
   "execution_count": 271,
   "metadata": {},
   "outputs": [],
   "source": [
    "def gen_regr(n):\n",
    "\n",
    "    x1 = np.random.choice(2, n).reshape((n, 1))\n",
    "    x2 = np.random.choice(3, n).reshape((n, 1))\n",
    "    x3 = np.random.choice(4, n).reshape((n, 1))\n",
    "    x4 = np.random.choice(5, n).reshape((n, 1))\n",
    "    x5 = np.random.choice(6, n).reshape((n, 1))\n",
    "    x6 = np.random.choice(7, n).reshape((n, 1))\n",
    "    x7 = np.random.choice(8, n).reshape((n, 1))\n",
    "    x8 = np.random.choice(9, n).reshape((n, 1))\n",
    "    \n",
    "    x9 = np.random.normal(size = n).reshape((n, 1))\n",
    "    x9[abs(x9) < 0.7] = 0\n",
    "    x10 = np.random.normal(size = n).reshape((n, 1))\n",
    "    x10[abs(x9) < 0.6] = 0\n",
    "    x11 = np.random.normal(size = n).reshape((n, 1))\n",
    "    x11[abs(x9) < 0.5] = 0\n",
    "    x12 = np.random.normal(size = n).reshape((n, 1))\n",
    "    x12[abs(x9) < 0.4] = 0\n",
    "    x13 = np.random.normal(size = n).reshape((n, 1))\n",
    "    x13[abs(x9) < 0.3] = 0\n",
    "    x14 = np.random.normal(size = n).reshape((n, 1))\n",
    "    x14[abs(x9) < 0.2] = 0\n",
    "    x15 = np.random.normal(size = n).reshape((n, 1))\n",
    "    x15[abs(x9) < 0.1] = 0\n",
    "    \n",
    "    x16 = np.random.normal(size = n).reshape((n, 1))\n",
    "    \n",
    "    y = x1 + x9\n",
    "    y = y.ravel() + 3 * np.random.normal(size = n)\n",
    "    # y = np.random.normal(size = n)\n",
    "    \n",
    "    X = np.concatenate((x1, x2, x3, x4, x5, x6, x7, x8, x9, x10, x11, x12, x13, x14, x15, x16), axis = 1)\n",
    "    \n",
    "    return [X, y]"
   ]
  },
  {
   "cell_type": "code",
   "execution_count": 300,
   "metadata": {},
   "outputs": [],
   "source": [
    "def gen_regr(n):\n",
    "\n",
    "    x1 = np.random.choice(2, n).reshape((n, 1))\n",
    "    x2 = np.random.choice(3, n).reshape((n, 1))\n",
    "    x3 = np.random.choice(4, n).reshape((n, 1))\n",
    "    x4 = np.random.choice(5, n).reshape((n, 1))\n",
    "    x5 = np.random.choice(6, n).reshape((n, 1))\n",
    "    x6 = np.random.choice(7, n).reshape((n, 1))\n",
    "    x7 = np.random.choice(8, n).reshape((n, 1))\n",
    "    x8 = np.random.choice(9, n).reshape((n, 1))\n",
    "    x9 = np.random.choice(10, n).reshape((n, 1))\n",
    "    x10 = np.random.choice(11, n).reshape((n, 1))   \n",
    "    \n",
    "    y = x1\n",
    "    y = y.ravel() + 5 * np.random.normal(size = n)\n",
    "    \n",
    "    X = np.concatenate((x1, x2, x3, x4, x5, x6, x7, x8, x9, x10), axis = 1)\n",
    "    \n",
    "    return [X, y]"
   ]
  },
  {
   "cell_type": "code",
   "execution_count": 301,
   "metadata": {},
   "outputs": [
    {
     "name": "stdout",
     "output_type": "stream",
     "text": [
      "0\n",
      "5\n",
      "10\n",
      "15\n",
      "20\n",
      "25\n",
      "30\n",
      "35\n",
      "40\n",
      "45\n",
      "50\n",
      "55\n",
      "60\n",
      "65\n",
      "70\n",
      "75\n",
      "80\n",
      "85\n",
      "90\n",
      "95\n"
     ]
    }
   ],
   "source": [
    "n = 1000\n",
    "n_estimators = 100\n",
    "\n",
    "m = 100\n",
    "\n",
    "score_SI = pd.DataFrame(columns=['x1','x2','x3','x4','x5', 'x6', 'x7','x8', 'x9', 'x10'])\n",
    "\n",
    "for i in range(m):\n",
    "    \n",
    "    X, y = gen_regr(n)\n",
    "    \n",
    "    if i % 5 == 0:\n",
    "        print(i)\n",
    "        \n",
    "    regr = RandomForestRegressor(n_estimators = n_estimators, max_depth = 3)\n",
    "    regr.fit(X, y)\n",
    "    \n",
    "    score_SI.loc[i] = regr.feature_importances_"
   ]
  },
  {
   "cell_type": "code",
   "execution_count": 302,
   "metadata": {},
   "outputs": [
    {
     "name": "stdout",
     "output_type": "stream",
     "text": [
      "2.71\n"
     ]
    }
   ],
   "source": [
    "order = []\n",
    "\n",
    "for i in range(m):\n",
    "    temp = list(score_SI.iloc[i].values.copy())\n",
    "    temp.sort(reverse = True)\n",
    "    order.append(temp.index(score_SI.iloc[i].values[0]))\n",
    "\n",
    "print(np.mean(order))"
   ]
  },
  {
   "cell_type": "code",
   "execution_count": 303,
   "metadata": {},
   "outputs": [],
   "source": [
    "score_SI.to_csv(\"score_SI_3.csv\", index = False)"
   ]
  },
  {
   "cell_type": "code",
   "execution_count": 304,
   "metadata": {},
   "outputs": [
    {
     "data": {
      "text/plain": [
       "<matplotlib.axes._subplots.AxesSubplot at 0x1a1e6f6e48>"
      ]
     },
     "execution_count": 304,
     "metadata": {},
     "output_type": "execute_result"
    },
    {
     "data": {
      "image/png": "[encoded data removed]",
      "text/plain": [
       "<Figure size 432x288 with 1 Axes>"
      ]
     },
     "metadata": {
      "needs_background": "light"
     },
     "output_type": "display_data"
    }
   ],
   "source": [
    "score_SI.boxplot()"
   ]
  },
  {
   "cell_type": "code",
   "execution_count": 324,
   "metadata": {},
   "outputs": [
    {
     "name": "stdout",
     "output_type": "stream",
     "text": [
      "0\n",
      "5\n",
      "10\n",
      "15\n",
      "20\n",
      "25\n",
      "30\n",
      "35\n",
      "40\n",
      "45\n",
      "50\n",
      "55\n",
      "60\n",
      "65\n",
      "70\n",
      "75\n",
      "80\n",
      "85\n",
      "90\n",
      "95\n"
     ]
    }
   ],
   "source": [
    "n = 1000\n",
    "n_estimators = 100\n",
    "\n",
    "m = 100\n",
    "\n",
    "score_SI = pd.DataFrame(columns=['x1','x2','x3','x4','x5', 'x6', 'x7','x8', 'x9', 'x10'])\n",
    "\n",
    "for i in range(m):\n",
    "    \n",
    "    X, y = gen_regr(n)\n",
    "    \n",
    "    if i % 5 == 0:\n",
    "        print(i)\n",
    "        \n",
    "    regr = RandomForestRegressor(n_estimators = n_estimators, max_depth = 10)\n",
    "    regr.fit(X, y)\n",
    "    \n",
    "    score_SI.loc[i] = regr.feature_importances_"
   ]
  },
  {
   "cell_type": "code",
   "execution_count": 326,
   "metadata": {},
   "outputs": [
    {
     "name": "stdout",
     "output_type": "stream",
     "text": [
      "9.0\n"
     ]
    }
   ],
   "source": [
    "order = []\n",
    "\n",
    "for i in range(m):\n",
    "    temp = list(score_SI.iloc[i].values.copy())\n",
    "    temp.sort(reverse = True)\n",
    "    order.append(temp.index(score_SI.iloc[i].values[0]))\n",
    "\n",
    "print(np.mean(order))"
   ]
  },
  {
   "cell_type": "code",
   "execution_count": 327,
   "metadata": {},
   "outputs": [],
   "source": [
    "score_SI.to_csv(\"score_SI_10.csv\", index = False)"
   ]
  },
  {
   "cell_type": "code",
   "execution_count": 328,
   "metadata": {},
   "outputs": [
    {
     "data": {
      "text/plain": [
       "<matplotlib.axes._subplots.AxesSubplot at 0x1a2036f128>"
      ]
     },
     "execution_count": 328,
     "metadata": {},
     "output_type": "execute_result"
    },
    {
     "data": {
      "image/png": "[encoded data removed]",
      "text/plain": [
       "<Figure size 432x288 with 1 Axes>"
      ]
     },
     "metadata": {
      "needs_background": "light"
     },
     "output_type": "display_data"
    }
   ],
   "source": [
    "score_SI.boxplot()"
   ]
  },
  {
   "cell_type": "code",
   "execution_count": null,
   "metadata": {},
   "outputs": [],
   "source": []
  },
  {
   "cell_type": "code",
   "execution_count": 383,
   "metadata": {},
   "outputs": [
    {
     "name": "stdout",
     "output_type": "stream",
     "text": [
      "0\n",
      "5\n",
      "10\n",
      "15\n",
      "20\n",
      "25\n",
      "30\n",
      "35\n",
      "40\n",
      "45\n",
      "50\n",
      "55\n",
      "60\n",
      "65\n",
      "70\n",
      "75\n",
      "80\n",
      "85\n",
      "90\n",
      "95\n"
     ]
    }
   ],
   "source": [
    "n = 1000\n",
    "n_estimators = 100\n",
    "\n",
    "m = 100\n",
    "\n",
    "score_UFI = pd.DataFrame(columns=['x1','x2','x3','x4','x5', 'x6', 'x7', 'x8', 'x9', 'x10'])\n",
    "\n",
    "\n",
    "for i in range(m):\n",
    "    \n",
    "    X, y = gen_regr(n)\n",
    "\n",
    "    if i % 5 == 0:\n",
    "        print(i)\n",
    "        \n",
    "    regr = RandomForestRegressor(n_estimators = n_estimators, max_depth = 3)\n",
    "    regr.fit(X, y)\n",
    "    \n",
    "    score_UFI.loc[i] = UFI.regr(regr, X, y)"
   ]
  },
  {
   "cell_type": "code",
   "execution_count": 384,
   "metadata": {},
   "outputs": [
    {
     "name": "stdout",
     "output_type": "stream",
     "text": [
      "0.47\n"
     ]
    }
   ],
   "source": [
    "order = []\n",
    "\n",
    "for i in range(m):\n",
    "    temp = list(score_UFI.iloc[i].values.copy())\n",
    "    temp.sort(reverse = True)\n",
    "    order.append(temp.index(score_UFI.iloc[i].values[0]))\n",
    "\n",
    "print(np.mean(order))"
   ]
  },
  {
   "cell_type": "code",
   "execution_count": 385,
   "metadata": {},
   "outputs": [],
   "source": [
    "score_UFI.to_csv(\"score_UFI_3.csv\", index = False)"
   ]
  },
  {
   "cell_type": "code",
   "execution_count": 386,
   "metadata": {},
   "outputs": [
    {
     "data": {
      "text/plain": [
       "<matplotlib.axes._subplots.AxesSubplot at 0x1a21403f60>"
      ]
     },
     "execution_count": 386,
     "metadata": {},
     "output_type": "execute_result"
    },
    {
     "data": {
      "image/png": "[encoded data removed]",
      "text/plain": [
       "<Figure size 432x288 with 1 Axes>"
      ]
     },
     "metadata": {
      "needs_background": "light"
     },
     "output_type": "display_data"
    }
   ],
   "source": [
    "score_UFI.boxplot()"
   ]
  },
  {
   "cell_type": "code",
   "execution_count": 316,
   "metadata": {},
   "outputs": [
    {
     "name": "stdout",
     "output_type": "stream",
     "text": [
      "0\n",
      "5\n",
      "10\n",
      "15\n",
      "20\n",
      "25\n",
      "30\n",
      "35\n",
      "40\n",
      "45\n",
      "50\n",
      "55\n",
      "60\n",
      "65\n",
      "70\n",
      "75\n",
      "80\n",
      "85\n",
      "90\n",
      "95\n"
     ]
    }
   ],
   "source": [
    "n = 1000\n",
    "n_estimators = 100\n",
    "\n",
    "m = 100\n",
    "\n",
    "score_UFI = pd.DataFrame(columns=['x1','x2','x3','x4','x5', 'x6', 'x7', 'x8', 'x9', 'x10'])\n",
    "\n",
    "\n",
    "for i in range(m):\n",
    "    \n",
    "    X, y = gen_regr(n)\n",
    "\n",
    "    if i % 5 == 0:\n",
    "        print(i)\n",
    "        \n",
    "    regr = RandomForestRegressor(n_estimators = n_estimators, max_depth = 10)\n",
    "    regr.fit(X, y)\n",
    "    \n",
    "    score_UFI.loc[i] = UFI.regr(regr, X, y)"
   ]
  },
  {
   "cell_type": "code",
   "execution_count": 320,
   "metadata": {},
   "outputs": [
    {
     "name": "stdout",
     "output_type": "stream",
     "text": [
      "0.55\n"
     ]
    }
   ],
   "source": [
    "order = []\n",
    "\n",
    "for i in range(m):\n",
    "    temp = list(score_UFI.iloc[i].values.copy())\n",
    "    temp.sort(reverse = True)\n",
    "    order.append(temp.index(score_UFI.iloc[i].values[0]))\n",
    "\n",
    "print(np.mean(order))"
   ]
  },
  {
   "cell_type": "code",
   "execution_count": 321,
   "metadata": {},
   "outputs": [],
   "source": [
    "score_UFI.to_csv(\"score_UFI_10.csv\", index = False)"
   ]
  },
  {
   "cell_type": "code",
   "execution_count": 323,
   "metadata": {},
   "outputs": [
    {
     "data": {
      "text/plain": [
       "<matplotlib.axes._subplots.AxesSubplot at 0x1a201eb198>"
      ]
     },
     "execution_count": 323,
     "metadata": {},
     "output_type": "execute_result"
    },
    {
     "data": {
      "image/png": "[encoded data removed]",
      "text/plain": [
       "<Figure size 432x288 with 1 Axes>"
      ]
     },
     "metadata": {
      "needs_background": "light"
     },
     "output_type": "display_data"
    }
   ],
   "source": [
    "score_UFI.boxplot()"
   ]
  },
  {
   "cell_type": "code",
   "execution_count": 390,
   "metadata": {},
   "outputs": [
    {
     "data": {
      "text/plain": [
       "<matplotlib.axes._subplots.AxesSubplot at 0x1a216ee278>"
      ]
     },
     "execution_count": 390,
     "metadata": {},
     "output_type": "execute_result"
    },
    {
     "data": {
      "image/png": "[encoded data removed]",
      "text/plain": [
       "<Figure size 432x288 with 1 Axes>"
      ]
     },
     "metadata": {
      "needs_background": "light"
     },
     "output_type": "display_data"
    }
   ],
   "source": [
    "score_cf.boxplot()"
   ]
  },
  {
   "cell_type": "code",
   "execution_count": null,
   "metadata": {},
   "outputs": [],
   "source": []
  }
 ],
 "metadata": {
  "kernelspec": {
   "display_name": "Python 3",
   "language": "python",
   "name": "python3"
  },
  "language_info": {
   "codemirror_mode": {
    "name": "ipython",
    "version": 3
   },
   "file_extension": ".py",
   "mimetype": "text/x-python",
   "name": "python",
   "nbconvert_exporter": "python",
   "pygments_lexer": "ipython3",
   "version": "3.7.3"
  }
 },
 "nbformat": 4,
 "nbformat_minor": 2
}
