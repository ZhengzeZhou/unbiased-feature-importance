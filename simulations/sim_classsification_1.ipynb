{
 "cells": [
  {
   "cell_type": "code",
   "execution_count": 1,
   "metadata": {},
   "outputs": [],
   "source": [
    "import numpy as np\n",
    "import pandas as pd\n",
    "from sklearn.ensemble import RandomForestRegressor\n",
    "from sklearn.ensemble import RandomForestClassifier\n",
    "\n",
    "import UFI"
   ]
  },
  {
   "cell_type": "code",
   "execution_count": 45,
   "metadata": {},
   "outputs": [],
   "source": [
    "def gen_cls(n):\n",
    "\n",
    "    x1 = np.random.choice(2, n).reshape((n, 1))\n",
    "    x2 = np.random.choice(3, n).reshape((n, 1))\n",
    "    x3 = np.random.choice(4, n).reshape((n, 1))\n",
    "    x4 = np.random.choice(5, n).reshape((n, 1))\n",
    "    x5 = np.random.choice(6, n).reshape((n, 1))\n",
    "    x6 = np.random.choice(7, n).reshape((n, 1))\n",
    "    x7 = np.random.choice(8, n).reshape((n, 1))\n",
    "    x8 = np.random.choice(9, n).reshape((n, 1))\n",
    "    x9 = np.random.choice(10, n).reshape((n, 1))\n",
    "    x10 = np.random.choice(11, n).reshape((n, 1))   \n",
    "    \n",
    "    y = np.random.choice(2, n)\n",
    "    for i in range(n):\n",
    "        if x1[i] == 0:\n",
    "            y[i] = np.random.binomial(1, 0.45)\n",
    "        else:\n",
    "            y[i] = np.random.binomial(1, 0.55)\n",
    "    \n",
    "    y = y.ravel()\n",
    "    \n",
    "    X = np.concatenate((x1, x2, x3, x4, x5, x6, x7, x8, x9, x10), axis = 1)\n",
    "    \n",
    "    return [X, y]"
   ]
  },
  {
   "cell_type": "code",
   "execution_count": 46,
   "metadata": {},
   "outputs": [
    {
     "name": "stdout",
     "output_type": "stream",
     "text": [
      "0\n",
      "5\n",
      "10\n",
      "15\n",
      "20\n",
      "25\n",
      "30\n",
      "35\n",
      "40\n",
      "45\n",
      "50\n",
      "55\n",
      "60\n",
      "65\n",
      "70\n",
      "75\n",
      "80\n",
      "85\n",
      "90\n",
      "95\n"
     ]
    }
   ],
   "source": [
    "n = 1000\n",
    "n_estimators = 100\n",
    "\n",
    "m = 100\n",
    "\n",
    "score_SI = pd.DataFrame(columns=['x1','x2','x3','x4','x5', 'x6', 'x7','x8', 'x9', 'x10'])\n",
    "\n",
    "for i in range(m):\n",
    "    \n",
    "    X, y = gen_cls(n)\n",
    "    \n",
    "    if i % 5 == 0:\n",
    "        print(i)\n",
    "        \n",
    "    cls = RandomForestClassifier(n_estimators = n_estimators, max_depth = 3)\n",
    "    cls.fit(X, y)\n",
    "    \n",
    "    score_SI.loc[i] = cls.feature_importances_"
   ]
  },
  {
   "cell_type": "code",
   "execution_count": 48,
   "metadata": {},
   "outputs": [
    {
     "name": "stdout",
     "output_type": "stream",
     "text": [
      "3.1\n"
     ]
    }
   ],
   "source": [
    "order = []\n",
    "\n",
    "for i in range(m):\n",
    "    temp = list(score_SI.iloc[i].values.copy())\n",
    "    temp.sort(reverse = True)\n",
    "    order.append(temp.index(score_SI.iloc[i].values[0]))\n",
    "\n",
    "print(np.mean(order))"
   ]
  },
  {
   "cell_type": "code",
   "execution_count": 49,
   "metadata": {},
   "outputs": [],
   "source": [
    "score_SI.to_csv(\"score_SI_3_cls.csv\", index = False)"
   ]
  },
  {
   "cell_type": "code",
   "execution_count": 50,
   "metadata": {},
   "outputs": [
    {
     "data": {
      "text/plain": [
       "<matplotlib.axes._subplots.AxesSubplot at 0x1a1a26a3c8>"
      ]
     },
     "execution_count": 50,
     "metadata": {},
     "output_type": "execute_result"
    },
    {
     "data": {
      "image/png": "[encoded data removed]",
      "text/plain": [
       "<Figure size 432x288 with 1 Axes>"
      ]
     },
     "metadata": {
      "needs_background": "light"
     },
     "output_type": "display_data"
    }
   ],
   "source": [
    "score_SI.boxplot()"
   ]
  },
  {
   "cell_type": "code",
   "execution_count": 51,
   "metadata": {},
   "outputs": [
    {
     "name": "stdout",
     "output_type": "stream",
     "text": [
      "0\n",
      "5\n",
      "10\n",
      "15\n",
      "20\n",
      "25\n",
      "30\n",
      "35\n",
      "40\n",
      "45\n",
      "50\n",
      "55\n",
      "60\n",
      "65\n",
      "70\n",
      "75\n",
      "80\n",
      "85\n",
      "90\n",
      "95\n"
     ]
    }
   ],
   "source": [
    "n = 1000\n",
    "n_estimators = 100\n",
    "\n",
    "m = 100\n",
    "\n",
    "score_SI = pd.DataFrame(columns=['x1','x2','x3','x4','x5', 'x6', 'x7','x8', 'x9', 'x10'])\n",
    "\n",
    "for i in range(m):\n",
    "    \n",
    "    X, y = gen_cls(n)\n",
    "    \n",
    "    if i % 5 == 0:\n",
    "        print(i)\n",
    "        \n",
    "    cls = RandomForestClassifier(n_estimators = n_estimators, max_depth = 10)\n",
    "    cls.fit(X, y)\n",
    "    \n",
    "    score_SI.loc[i] = cls.feature_importances_"
   ]
  },
  {
   "cell_type": "code",
   "execution_count": 52,
   "metadata": {},
   "outputs": [
    {
     "name": "stdout",
     "output_type": "stream",
     "text": [
      "9.0\n"
     ]
    }
   ],
   "source": [
    "order = []\n",
    "\n",
    "for i in range(m):\n",
    "    temp = list(score_SI.iloc[i].values.copy())\n",
    "    temp.sort(reverse = True)\n",
    "    order.append(temp.index(score_SI.iloc[i].values[0]))\n",
    "\n",
    "print(np.mean(order))"
   ]
  },
  {
   "cell_type": "code",
   "execution_count": 54,
   "metadata": {},
   "outputs": [],
   "source": [
    "score_SI.to_csv(\"score_SI_10_cls.csv\", index = False)"
   ]
  },
  {
   "cell_type": "code",
   "execution_count": 53,
   "metadata": {},
   "outputs": [
    {
     "data": {
      "text/plain": [
       "<matplotlib.axes._subplots.AxesSubplot at 0x1a1a3e44a8>"
      ]
     },
     "execution_count": 53,
     "metadata": {},
     "output_type": "execute_result"
    },
    {
     "data": {
      "image/png": "[encoded data removed]",
      "text/plain": [
       "<Figure size 432x288 with 1 Axes>"
      ]
     },
     "metadata": {
      "needs_background": "light"
     },
     "output_type": "display_data"
    }
   ],
   "source": [
    "score_SI.boxplot()"
   ]
  },
  {
   "cell_type": "code",
   "execution_count": null,
   "metadata": {},
   "outputs": [],
   "source": []
  },
  {
   "cell_type": "code",
   "execution_count": 55,
   "metadata": {},
   "outputs": [
    {
     "name": "stdout",
     "output_type": "stream",
     "text": [
      "0\n",
      "5\n",
      "10\n",
      "15\n",
      "20\n",
      "25\n",
      "30\n",
      "35\n",
      "40\n",
      "45\n",
      "50\n",
      "55\n",
      "60\n",
      "65\n",
      "70\n",
      "75\n",
      "80\n",
      "85\n",
      "90\n",
      "95\n"
     ]
    }
   ],
   "source": [
    "n = 1000\n",
    "n_estimators = 100\n",
    "\n",
    "m = 100\n",
    "\n",
    "score_UFI = pd.DataFrame(columns=['x1','x2','x3','x4','x5', 'x6', 'x7', 'x8', 'x9', 'x10'])\n",
    "\n",
    "\n",
    "for i in range(m):\n",
    "    \n",
    "    X, y = gen_cls(n)\n",
    "\n",
    "    if i % 5 == 0:\n",
    "        print(i)\n",
    "        \n",
    "    cls = RandomForestClassifier(n_estimators = n_estimators, max_depth = 3)\n",
    "    cls.fit(X, y)\n",
    "    \n",
    "    score_UFI.loc[i] = UFI.cls(cls, X, y)"
   ]
  },
  {
   "cell_type": "code",
   "execution_count": 56,
   "metadata": {},
   "outputs": [
    {
     "name": "stdout",
     "output_type": "stream",
     "text": [
      "0.39\n"
     ]
    }
   ],
   "source": [
    "order = []\n",
    "\n",
    "for i in range(m):\n",
    "    temp = list(score_UFI.iloc[i].values.copy())\n",
    "    temp.sort(reverse = True)\n",
    "    order.append(temp.index(score_UFI.iloc[i].values[0]))\n",
    "\n",
    "print(np.mean(order))"
   ]
  },
  {
   "cell_type": "code",
   "execution_count": 57,
   "metadata": {},
   "outputs": [],
   "source": [
    "score_UFI.to_csv(\"score_UFI_3_cls.csv\", index = False)"
   ]
  },
  {
   "cell_type": "code",
   "execution_count": 58,
   "metadata": {},
   "outputs": [
    {
     "data": {
      "text/plain": [
       "<matplotlib.axes._subplots.AxesSubplot at 0x1a1a56f4e0>"
      ]
     },
     "execution_count": 58,
     "metadata": {},
     "output_type": "execute_result"
    },
    {
     "data": {
      "image/png": "[encoded data removed]",
      "text/plain": [
       "<Figure size 432x288 with 1 Axes>"
      ]
     },
     "metadata": {
      "needs_background": "light"
     },
     "output_type": "display_data"
    }
   ],
   "source": [
    "score_UFI.boxplot()"
   ]
  },
  {
   "cell_type": "code",
   "execution_count": 59,
   "metadata": {},
   "outputs": [
    {
     "name": "stdout",
     "output_type": "stream",
     "text": [
      "0\n",
      "5\n",
      "10\n",
      "15\n",
      "20\n",
      "25\n",
      "30\n",
      "35\n",
      "40\n",
      "45\n",
      "50\n",
      "55\n",
      "60\n",
      "65\n",
      "70\n",
      "75\n",
      "80\n",
      "85\n",
      "90\n",
      "95\n"
     ]
    }
   ],
   "source": [
    "n = 1000\n",
    "n_estimators = 100\n",
    "\n",
    "m = 100\n",
    "\n",
    "score_UFI = pd.DataFrame(columns=['x1','x2','x3','x4','x5', 'x6', 'x7', 'x8', 'x9', 'x10'])\n",
    "\n",
    "\n",
    "for i in range(m):\n",
    "    \n",
    "    X, y = gen_cls(n)\n",
    "\n",
    "    if i % 5 == 0:\n",
    "        print(i)\n",
    "        \n",
    "    cls = RandomForestClassifier(n_estimators = n_estimators, max_depth = 10)\n",
    "    cls.fit(X, y)\n",
    "    \n",
    "    score_UFI.loc[i] = UFI.cls(cls, X, y)"
   ]
  },
  {
   "cell_type": "code",
   "execution_count": 63,
   "metadata": {},
   "outputs": [
    {
     "name": "stdout",
     "output_type": "stream",
     "text": [
      "0.69\n"
     ]
    }
   ],
   "source": [
    "order = []\n",
    "\n",
    "for i in range(m):\n",
    "    temp = list(score_UFI.iloc[i].values.copy())\n",
    "    temp.sort(reverse = True)\n",
    "    order.append(temp.index(score_UFI.iloc[i].values[0]))\n",
    "\n",
    "print(np.mean(order))"
   ]
  },
  {
   "cell_type": "code",
   "execution_count": 64,
   "metadata": {},
   "outputs": [],
   "source": [
    "score_UFI.to_csv(\"score_UFI_10_cls.csv\", index = False)"
   ]
  },
  {
   "cell_type": "code",
   "execution_count": 65,
   "metadata": {},
   "outputs": [
    {
     "data": {
      "text/plain": [
       "<matplotlib.axes._subplots.AxesSubplot at 0x1a1a7ea320>"
      ]
     },
     "execution_count": 65,
     "metadata": {},
     "output_type": "execute_result"
    },
    {
     "data": {
      "image/png": "[encoded data removed]",
      "text/plain": [
       "<Figure size 432x288 with 1 Axes>"
      ]
     },
     "metadata": {
      "needs_background": "light"
     },
     "output_type": "display_data"
    }
   ],
   "source": [
    "score_UFI.boxplot()"
   ]
  },
  {
   "cell_type": "code",
   "execution_count": null,
   "metadata": {},
   "outputs": [],
   "source": []
  },
  {
   "cell_type": "code",
   "execution_count": null,
   "metadata": {},
   "outputs": [],
   "source": []
  },
  {
   "cell_type": "code",
   "execution_count": null,
   "metadata": {},
   "outputs": [],
   "source": []
  }
 ],
 "metadata": {
  "kernelspec": {
   "display_name": "Python 3",
   "language": "python",
   "name": "python3"
  },
  "language_info": {
   "codemirror_mode": {
    "name": "ipython",
    "version": 3
   },
   "file_extension": ".py",
   "mimetype": "text/x-python",
   "name": "python",
   "nbconvert_exporter": "python",
   "pygments_lexer": "ipython3",
   "version": "3.7.3"
  }
 },
 "nbformat": 4,
 "nbformat_minor": 2
}
