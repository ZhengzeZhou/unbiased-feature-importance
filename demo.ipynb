{
 "cells": [
  {
   "cell_type": "code",
   "execution_count": 1,
   "metadata": {},
   "outputs": [],
   "source": [
    "import sys\n",
    "sys.path.insert(0, 'C:\\\\Users\\\\zhouz\\\\Documents\\\\GitHub\\\\scikit-learn')"
   ]
  },
  {
   "cell_type": "code",
   "execution_count": 2,
   "metadata": {},
   "outputs": [],
   "source": [
    "import numpy as np\n",
    "import pandas as pd\n",
    "from sklearn.ensemble import RandomForestRegressor\n",
    "from sklearn.ensemble import RandomForestClassifier\n",
    "\n",
    "from UFI_cls import UFI_cls\n",
    "from UFI_regr import UFI_regr"
   ]
  },
  {
   "cell_type": "code",
   "execution_count": null,
   "metadata": {},
   "outputs": [],
   "source": []
  },
  {
   "cell_type": "markdown",
   "metadata": {},
   "source": [
    "### Define functions for generating data: "
   ]
  },
  {
   "cell_type": "code",
   "execution_count": 3,
   "metadata": {},
   "outputs": [],
   "source": [
    "def gen_noise_cls(n):\n",
    "\n",
    "    x1 = np.random.normal(size=n).reshape((n, 1))\n",
    "    x2 = np.random.choice(2, n).reshape((n, 1))\n",
    "    x3 = np.random.choice(4, n).reshape((n, 1))\n",
    "    x4 = np.random.choice(10, n).reshape((n, 1))\n",
    "    x5 = np.random.choice(20, n).reshape((n, 1))\n",
    "    \n",
    "    y = np.random.choice(2, n)\n",
    "    \n",
    "    X = np.concatenate((x1, x2, x3, x4, x5), axis = 1)\n",
    "    \n",
    "    return [X, y]"
   ]
  },
  {
   "cell_type": "code",
   "execution_count": 4,
   "metadata": {},
   "outputs": [],
   "source": [
    "def gen_noise_regr(n):\n",
    "\n",
    "    x1 = np.random.normal(size=n).reshape((n, 1))\n",
    "    x2 = np.random.choice(2, n).reshape((n, 1))\n",
    "    x3 = np.random.choice(4, n).reshape((n, 1))\n",
    "    x4 = np.random.choice(10, n).reshape((n, 1))\n",
    "    x5 = np.random.choice(20, n).reshape((n, 1))\n",
    "    \n",
    "    y = np.random.normal(size=n).reshape((n, 1))\n",
    "\n",
    "    y = y.ravel()\n",
    "\n",
    "    X = np.concatenate((x1, x2, x3, x4, x5), axis = 1)\n",
    "    \n",
    "    return [X, y]"
   ]
  },
  {
   "cell_type": "code",
   "execution_count": null,
   "metadata": {},
   "outputs": [],
   "source": []
  },
  {
   "cell_type": "code",
   "execution_count": null,
   "metadata": {},
   "outputs": [],
   "source": []
  },
  {
   "cell_type": "markdown",
   "metadata": {},
   "source": [
    "### To get unbiased measurement of feature importance, simply call UFI_cls(model, X, y) or UFI_regr(model, X, y) for classification and regression respectively, where model is the trained random forests object, and X(covariate) and y(response) are training data. \n",
    "\n",
    "### For illustration, we reproduce Figure 9 from the paper."
   ]
  },
  {
   "cell_type": "markdown",
   "metadata": {},
   "source": [
    "### Classification: "
   ]
  },
  {
   "cell_type": "code",
   "execution_count": 5,
   "metadata": {},
   "outputs": [],
   "source": [
    "n = 1000\n",
    "n_estimators = 100\n",
    "\n",
    "m = 100\n",
    "\n",
    "score = pd.DataFrame(columns=['x1','x2','x3','x4','x5'])\n",
    "\n",
    "for i in range(m):\n",
    "    \n",
    "    X, y = gen_noise_cls(n)\n",
    "\n",
    "#     if i % 5 == 0:\n",
    "#         print(i)\n",
    "        \n",
    "    cls = RandomForestClassifier(n_estimators = n_estimators, max_depth = 5)\n",
    "    cls.fit(X, y)\n",
    "    \n",
    "    score.loc[i] = UFI_cls(cls, X, y)"
   ]
  },
  {
   "cell_type": "code",
   "execution_count": 7,
   "metadata": {},
   "outputs": [
    {
     "data": {
      "text/plain": [
       "<matplotlib.axes._subplots.AxesSubplot at 0x25ef721d048>"
      ]
     },
     "execution_count": 7,
     "metadata": {},
     "output_type": "execute_result"
    },
    {
     "data": {
      "image/png": "[encoded data removed]",
      "text/plain": [
       "<Figure size 432x288 with 1 Axes>"
      ]
     },
     "metadata": {},
     "output_type": "display_data"
    }
   ],
   "source": [
    "score.boxplot()"
   ]
  },
  {
   "cell_type": "code",
   "execution_count": null,
   "metadata": {},
   "outputs": [],
   "source": []
  },
  {
   "cell_type": "markdown",
   "metadata": {},
   "source": [
    "### Regression:"
   ]
  },
  {
   "cell_type": "code",
   "execution_count": 8,
   "metadata": {},
   "outputs": [],
   "source": [
    "n = 1000\n",
    "n_estimators = 100\n",
    "\n",
    "m = 100\n",
    "\n",
    "score = pd.DataFrame(columns=['x1','x2','x3','x4','x5'])\n",
    "\n",
    "for i in range(m):\n",
    "    \n",
    "    X, y = gen_noise_regr(n)\n",
    "\n",
    "#     if i % 5 == 0:\n",
    "#         print(i)\n",
    "        \n",
    "    regr = RandomForestRegressor(n_estimators = n_estimators, max_depth=5)\n",
    "    regr.fit(X, y)\n",
    "    \n",
    "    score.loc[i] = UFI_regr(regr, X, y)"
   ]
  },
  {
   "cell_type": "code",
   "execution_count": 9,
   "metadata": {},
   "outputs": [
    {
     "data": {
      "text/plain": [
       "<matplotlib.axes._subplots.AxesSubplot at 0x25ef72c92b0>"
      ]
     },
     "execution_count": 9,
     "metadata": {},
     "output_type": "execute_result"
    },
    {
     "data": {
      "image/png": "[encoded data removed]",
      "text/plain": [
       "<Figure size 432x288 with 1 Axes>"
      ]
     },
     "metadata": {},
     "output_type": "display_data"
    }
   ],
   "source": [
    "score.boxplot()"
   ]
  },
  {
   "cell_type": "code",
   "execution_count": null,
   "metadata": {},
   "outputs": [],
   "source": []
  }
 ],
 "metadata": {
  "kernelspec": {
   "display_name": "Python 3",
   "language": "python",
   "name": "python3"
  },
  "language_info": {
   "codemirror_mode": {
    "name": "ipython",
    "version": 3
   },
   "file_extension": ".py",
   "mimetype": "text/x-python",
   "name": "python",
   "nbconvert_exporter": "python",
   "pygments_lexer": "ipython3",
   "version": "3.6.4"
  }
 },
 "nbformat": 4,
 "nbformat_minor": 2
}
